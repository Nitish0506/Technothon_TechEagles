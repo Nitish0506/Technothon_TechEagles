{
 "cells": [
  {
   "cell_type": "code",
   "execution_count": 5,
   "metadata": {},
   "outputs": [],
   "source": [
    "import numpy as np"
   ]
  },
  {
   "cell_type": "code",
   "execution_count": 6,
   "metadata": {},
   "outputs": [],
   "source": [
    "import pandas as pd\n",
    "import seaborn as sns"
   ]
  },
  {
   "cell_type": "code",
   "execution_count": 7,
   "metadata": {},
   "outputs": [],
   "source": [
    "from sklearn.model_selection import train_test_split\n",
    "from sklearn.preprocessing import StandardScaler\n",
    "from sklearn.preprocessing import MinMaxScaler"
   ]
  },
  {
   "cell_type": "code",
   "execution_count": 8,
   "metadata": {},
   "outputs": [],
   "source": [
    "from sklearn.linear_model import LinearRegression\n",
    "from sklearn import preprocessing\n",
    "leLocation = preprocessing.LabelEncoder()\n",
    "leSkill = preprocessing.LabelEncoder()\n",
    "lePop = preprocessing.LabelEncoder()\n",
    "leCI = preprocessing.LabelEncoder()\n",
    "lePriority = preprocessing.LabelEncoder()\n",
    "leExt = preprocessing.LabelEncoder()\n"
   ]
  },
  {
   "cell_type": "code",
   "execution_count": 9,
   "metadata": {},
   "outputs": [],
   "source": [
    "leGrade = preprocessing.LabelEncoder()"
   ]
  },
  {
   "cell_type": "code",
   "execution_count": 10,
   "metadata": {},
   "outputs": [],
   "source": [
    "data = pd.read_excel('IndentsData1.xlsx')"
   ]
  },
  {
   "cell_type": "code",
   "execution_count": 11,
   "metadata": {},
   "outputs": [],
   "source": [
    "df = pd.DataFrame(data[1:])"
   ]
  },
  {
   "cell_type": "code",
   "execution_count": 12,
   "metadata": {},
   "outputs": [],
   "source": [
    "df = df.loc[df.groupby('Indent Id')['ReportDate'].idxmin()]"
   ]
  },
  {
   "cell_type": "code",
   "execution_count": 13,
   "metadata": {},
   "outputs": [
    {
     "data": {
      "text/plain": [
       "(37188, 19)"
      ]
     },
     "execution_count": 13,
     "metadata": {},
     "output_type": "execute_result"
    }
   ],
   "source": [
    "df.shape"
   ]
  },
  {
   "cell_type": "code",
   "execution_count": 14,
   "metadata": {},
   "outputs": [],
   "source": [
    "df['Purpose of Position'] = df['Purpose of Position'].fillna('Buffer')\n",
    "df['Priority '] = df['Priority '].fillna('P3')"
   ]
  },
  {
   "cell_type": "code",
   "execution_count": 15,
   "metadata": {},
   "outputs": [],
   "source": [
    "\n",
    "skillList = [\"Java\", \"Management Skills\",\"Java-Core Java\",\"Project Management\",\"Salesforce Platforms\",\"Salesforce Platform\",\"Full Stack\",\"C++\",\"UI-React.js\",\".Net-.Net Core\",\"Manual Testing-QE Manual Testing\",\"DevOps\",\"Network Monitoring\",\"SalesForce\",\"Scripting & Programming Language-Python\",\"Test Automation\",\".Net - .Net Framework\",\".Net-C#/ASP.NET\",\"Windows Admin-Remote infrastructure management\",\"Cloud -Outsystems\",\"QE Manual Testing\",\"Big Data\",\"Recruitment\",\"UI-Angular\",\"Cloud -GCP\",\"Resource Allocation\",\"Appian\",\"Support-IT Infrastructure Support\"]"
   ]
  },
  {
   "cell_type": "code",
   "execution_count": null,
   "metadata": {},
   "outputs": [],
   "source": []
  },
  {
   "cell_type": "code",
   "execution_count": 16,
   "metadata": {},
   "outputs": [],
   "source": [
    "mask = df['Skill1'].isin(skillList)\n",
    "df = df[mask]"
   ]
  },
  {
   "cell_type": "code",
   "execution_count": 17,
   "metadata": {},
   "outputs": [
    {
     "data": {
      "text/plain": [
       "(18487, 19)"
      ]
     },
     "execution_count": 17,
     "metadata": {},
     "output_type": "execute_result"
    }
   ],
   "source": [
    "df.shape"
   ]
  },
  {
   "cell_type": "code",
   "execution_count": 18,
   "metadata": {},
   "outputs": [],
   "source": [
    "leLocation.fit(df['Location'])\n",
    "df['Location'] = leLocation.transform(df['Location'])\n"
   ]
  },
  {
   "cell_type": "code",
   "execution_count": 19,
   "metadata": {},
   "outputs": [],
   "source": [
    "lePriority.fit(df['Priority '])\n",
    "df['Priority '] = lePriority.transform(df['Priority '])"
   ]
  },
  {
   "cell_type": "code",
   "execution_count": 20,
   "metadata": {},
   "outputs": [],
   "source": [
    "lePop.fit(df['Purpose of Position'])\n",
    "df['Purpose of Position'] = lePop.transform(df['Purpose of Position'])"
   ]
  },
  {
   "cell_type": "code",
   "execution_count": 21,
   "metadata": {},
   "outputs": [],
   "source": [
    "leCI.fit(df['Is Client Interview Required'])\n",
    "df['Is Client Interview Required'] = leCI.transform(df['Is Client Interview Required'])"
   ]
  },
  {
   "cell_type": "code",
   "execution_count": 22,
   "metadata": {},
   "outputs": [],
   "source": [
    "leGrade.fit(df['Grade'])\n",
    "df['Grade'] = leGrade.transform(df['Grade'])"
   ]
  },
  {
   "cell_type": "code",
   "execution_count": 23,
   "metadata": {},
   "outputs": [],
   "source": [
    "leExt.fit(df['Mark As E'])\n",
    "df['Mark As E'] = leExt.transform(df['Mark As E'])"
   ]
  },
  {
   "cell_type": "code",
   "execution_count": 24,
   "metadata": {},
   "outputs": [],
   "source": [
    "leSkill.fit(df['Skill1'])\n",
    "df['Skill1'] = leSkill.transform(df['Skill1'])"
   ]
  },
  {
   "cell_type": "code",
   "execution_count": 25,
   "metadata": {},
   "outputs": [
    {
     "data": {
      "text/plain": [
       "array([ 0.1,  0.2,  0.3,  1.1,  1.3,  2. ,  3. ,  3.1,  3.2,  3.3,  5.1,\n",
       "        5.2,  5.3,  7.1,  7.3,  9.1,  9.3, 11.1, 11.3, 13.1, 13.3, 13.5,\n",
       "        nan])"
      ]
     },
     "execution_count": 25,
     "metadata": {},
     "output_type": "execute_result"
    }
   ],
   "source": [
    "leGrade.classes_"
   ]
  },
  {
   "cell_type": "code",
   "execution_count": 26,
   "metadata": {},
   "outputs": [
    {
     "data": {
      "text/plain": [
       "(18487, 19)"
      ]
     },
     "execution_count": 26,
     "metadata": {},
     "output_type": "execute_result"
    }
   ],
   "source": [
    "df.shape"
   ]
  },
  {
   "cell_type": "code",
   "execution_count": null,
   "metadata": {},
   "outputs": [],
   "source": []
  },
  {
   "cell_type": "code",
   "execution_count": null,
   "metadata": {},
   "outputs": [],
   "source": []
  },
  {
   "cell_type": "code",
   "execution_count": 27,
   "metadata": {},
   "outputs": [],
   "source": [
    "df['DaysForIndentClosing'] = (df['Indent Closing Date']-df['Indent Created Date']).dt.days\n",
    "df['DaysForBillingToStart'] = (df['Billing Start Date']-df['Indent Created Date']).dt.days"
   ]
  },
  {
   "cell_type": "code",
   "execution_count": 28,
   "metadata": {},
   "outputs": [
    {
     "data": {
      "text/plain": [
       "(18487, 21)"
      ]
     },
     "execution_count": 28,
     "metadata": {},
     "output_type": "execute_result"
    }
   ],
   "source": [
    "df.shape"
   ]
  },
  {
   "cell_type": "code",
   "execution_count": 29,
   "metadata": {},
   "outputs": [],
   "source": [
    "condition = df['DaysForBillingToStart'] < 0\n",
    "df.loc[condition, 'DaysForBillingToStart'] = 0"
   ]
  },
  {
   "cell_type": "code",
   "execution_count": 30,
   "metadata": {},
   "outputs": [
    {
     "data": {
      "text/plain": [
       "(18487, 21)"
      ]
     },
     "execution_count": 30,
     "metadata": {},
     "output_type": "execute_result"
    }
   ],
   "source": [
    "df.shape"
   ]
  },
  {
   "cell_type": "code",
   "execution_count": 31,
   "metadata": {},
   "outputs": [],
   "source": [
    "df = df.drop(df[df['DaysForIndentClosing'] <= 2].index)"
   ]
  },
  {
   "cell_type": "code",
   "execution_count": 32,
   "metadata": {},
   "outputs": [],
   "source": [
    "df = df.drop('Skill2', axis=1)\n",
    "df = df.drop('ReportDate', axis=1)\n",
    "df = df.drop('Indent Id', axis=1)\n",
    "df = df.drop('Billing Start Date', axis=1)\n",
    "df = df.drop('Position Billing Date', axis=1)\n",
    "df = df.drop('Position End Date', axis=1)\n",
    "df = df.drop('Color', axis=1)\n",
    "df = df.drop('Indent Status', axis=1)\n",
    "df = df.drop('Indent Created Date', axis=1)\n",
    "df = df.drop('Skill Type 2', axis=1)\n",
    "df = df.drop('Skill Type 1', axis=1)\n",
    "df = df.drop('Indent Closing Date', axis=1)\n"
   ]
  },
  {
   "cell_type": "code",
   "execution_count": 33,
   "metadata": {},
   "outputs": [],
   "source": [
    "df = df.drop_duplicates()"
   ]
  },
  {
   "cell_type": "code",
   "execution_count": 34,
   "metadata": {},
   "outputs": [],
   "source": [
    "df = df.reset_index(drop=True)"
   ]
  },
  {
   "cell_type": "code",
   "execution_count": null,
   "metadata": {},
   "outputs": [],
   "source": []
  },
  {
   "cell_type": "code",
   "execution_count": null,
   "metadata": {},
   "outputs": [],
   "source": []
  },
  {
   "cell_type": "code",
   "execution_count": 35,
   "metadata": {},
   "outputs": [],
   "source": [
    "X = df.drop('DaysForIndentClosing', axis=1)\n",
    "y = df['DaysForIndentClosing']\n"
   ]
  },
  {
   "cell_type": "code",
   "execution_count": 36,
   "metadata": {},
   "outputs": [],
   "source": [
    "X_train, X_test, y_train, y_test = train_test_split(X, y, test_size=0.1, random_state=42)"
   ]
  },
  {
   "cell_type": "code",
   "execution_count": 37,
   "metadata": {},
   "outputs": [],
   "source": [
    "# std_scale = preprocessing.MinMaxScaler().fit(X_train)\n",
    "# X_train_std = std_scale.transform(X_train)\n",
    "# X_test_std = std_scale.transform(X_test)\n"
   ]
  },
  {
   "cell_type": "code",
   "execution_count": 38,
   "metadata": {},
   "outputs": [],
   "source": [
    "# y_std_scale = preprocessing.MinMaxScaler().fit(y_train.values.reshape(-1, 1))\n",
    "# y_train_std = y_std_scale.transform(y_train.values.reshape(-1, 1))\n",
    "# y_test_std = y_std_scale.transform(y_test.values.reshape(-1, 1))"
   ]
  },
  {
   "cell_type": "code",
   "execution_count": 39,
   "metadata": {},
   "outputs": [
    {
     "name": "stdout",
     "output_type": "stream",
     "text": [
      "Training set shape: (6064, 8) (6064,)\n",
      "Testing set shape: (674, 8) (674,)\n"
     ]
    }
   ],
   "source": [
    "print(\"Training set shape:\", X_train.shape, y_train.shape)\n",
    "print(\"Testing set shape:\", X_test.shape, y_test.shape)"
   ]
  },
  {
   "cell_type": "code",
   "execution_count": 40,
   "metadata": {},
   "outputs": [
    {
     "name": "stdout",
     "output_type": "stream",
     "text": [
      "Intercept: 8.77493996330767\n",
      "Coefficients: [ 0.87760812  0.17023424  0.04396329 -2.46298677 -0.21086878  0.3418871\n",
      " 19.59691432  0.48867481]\n"
     ]
    }
   ],
   "source": [
    "model = LinearRegression()\n",
    "\n",
    "# fit the model to the data\n",
    "model.fit(X_train, y_train)\n",
    "\n",
    "# print the coefficients of the model\n",
    "print(\"Intercept:\", model.intercept_)\n",
    "print(\"Coefficients:\", model.coef_)"
   ]
  },
  {
   "cell_type": "code",
   "execution_count": 41,
   "metadata": {},
   "outputs": [
    {
     "name": "stdout",
     "output_type": "stream",
     "text": [
      "[ 39.2632257  147.15970765  17.8305697   73.23200269  13.1407368\n",
      " 103.95258471  14.9655002   18.41070189  20.79999222  38.80705445\n",
      "  14.15076733  47.5431064   17.77637005  49.91225165  52.7399156\n",
      "  57.93867673  13.45541993  18.76350257  17.39452303  18.47182301\n",
      "  74.65973516  23.02603027  27.69401883 158.97259352  65.18650471\n",
      "  11.49655518  15.55211075  50.45766449  17.15129038   9.07820145\n",
      "  43.9127705   52.49017968  12.91287419  20.97092881  44.28286931\n",
      "  37.70923388  50.12585582 112.36645061  44.55134708  31.78509784\n",
      "  64.49595074  59.12935234  59.53083104  20.12883909  83.02380278\n",
      "  47.78518824  36.73298194  16.78438498  24.24790643  23.82392213\n",
      "  45.9610764   90.17359544  24.77486023  15.35936373  26.05119086\n",
      "  20.1197576   24.79574726  44.84513172  85.15618082  18.86484695\n",
      "  36.51551776  44.22995451   8.85828504  12.99061368   9.61551205\n",
      "  93.81328705  31.40057353  57.39618225  50.31547512  11.96495237\n",
      "  62.57283102  40.53262707  24.0684385   15.27871371  18.64599475\n",
      "  35.66854579   5.40112301  23.38672968  17.83262398  67.21186832\n",
      "  13.49706055  46.69568621  36.84413004  57.31506449  23.1414134\n",
      "  29.21544707  40.8925681   10.15480801  63.29648075  63.63866947\n",
      "  84.45331981   8.91541472  44.02399607  63.42608046  10.32709654\n",
      "  48.37945756  39.10035691  20.25342035  12.49152383  70.87491614\n",
      "  13.60414748  48.98269393  36.01142176  57.58085818  33.47765164\n",
      "  20.17825033  79.99672419  40.89204755  39.04247299  85.04071065\n",
      "  15.301144    66.53093135  14.52272186   9.88228871  17.60814092\n",
      "  19.53882563  30.80082571   6.95404919  16.42084516  49.11243379\n",
      "  62.11967291  25.25912662  22.54592938  50.96493351   6.92289279\n",
      "  41.68637444  63.23333194  64.31868073  30.4266452   14.84307922\n",
      "  14.03254254  10.33831069  16.42971887   7.06841268  28.49285043\n",
      "  30.31777459  14.97496909  17.27746879  54.04889093  66.94630158\n",
      "  19.75767784  17.19854529  80.3714963   21.16720332  47.86595597\n",
      "  35.07229919  41.54668803  45.51791441  56.69560722  71.46333246\n",
      "  40.08840295  28.86328558  11.59966891  66.98135433 138.30651221\n",
      "   9.58647692  56.12496296  22.88458708  16.89795519  18.36374807\n",
      "  38.21999299  13.86396595  18.93719939  14.9002694   19.23416756\n",
      "  65.5437931   25.17875375  64.66618498  28.96302708  54.65631175\n",
      "  34.45584881  12.68996995  39.35661251  68.07228845  61.78262572\n",
      "  57.84051379  24.82188105  38.1045435   39.34538495  56.81888463\n",
      "  40.03373154  52.96104701  43.80949715  51.49927843  13.54993437\n",
      "  12.53715822  17.7156602   21.56616454  28.70263026  81.15920605\n",
      "  39.36757686   4.52571646  36.24752168  45.51791441  12.22996934\n",
      "  50.59891439  17.37439844  22.91321236  61.22285109  35.5468132\n",
      "  50.95098733  15.21326898  21.90488331   6.3947285   42.60958153\n",
      "  38.36041689  15.25061915  32.5736066   33.55645627  66.59203211\n",
      "  42.20841524  41.78194623   6.67207344  87.58521767 140.37064774\n",
      "  29.36559291  41.85707319  45.60863749  14.46260871  28.86302116\n",
      "  45.18841779  38.36002025  61.09982274  60.49098045  31.22752744\n",
      "  40.63889008  19.90888882  57.37669732  66.49029682  17.4765361\n",
      "  72.41448924  29.44146528  36.68833875  53.47170782   8.2269671\n",
      "  68.24551307  17.58630551  12.22611012  23.7739823   15.98048204\n",
      "  30.75989284  20.49148863  19.59025544  34.31205148  69.35480496\n",
      "  27.86767197  33.84554952  54.48283829  16.61415074  14.09965112\n",
      "  19.9829978  141.61661825  70.67491462  11.2053743   59.15860287\n",
      "   7.8633165   15.40689165  65.53596281  38.00438998  63.38153827\n",
      "  54.46548823  82.21417833  62.79907887  16.84949809  17.85264871\n",
      "  17.06116014  30.98409252  16.83163989  67.97628273  51.78859482\n",
      "  51.87255298  17.00421488  29.65844985  28.48589213  13.88409053\n",
      "  51.93354223  32.91646407  39.99489459  74.12124066  44.79427647\n",
      "  56.90307365  22.88781648  13.49706055  27.1200442   46.45900013\n",
      "  29.69002256  69.58496994  63.25883836  18.24119033  44.26677923\n",
      "  27.83506481  16.97504058  40.33912426  47.93228378  46.60059777\n",
      "  10.15124339  13.22393237  13.27150156  54.00623707  49.1473954\n",
      "  93.50991117  19.90888882  16.12822728  50.78932701  28.06088642\n",
      "  22.70153685  39.81781954  76.59657621  34.39298593  42.96575563\n",
      "  17.06499778  78.60742563  36.16582109  10.37353441  59.12916726\n",
      "  15.053948    16.91398469  18.83880668  24.38592692  44.38833369\n",
      "  33.03318388  20.25248816  66.34350911  12.27898394  29.17481253\n",
      "  47.03375853  19.54381213  36.22882413  38.98557359  70.76752642\n",
      "  25.53206678  16.91778424  35.81811939  16.78438498   9.40766397\n",
      "  20.34095802  16.87727429  10.63867719  21.80514181  16.9011714\n",
      "  45.39971123  12.46145747  32.08493179  51.51440837  15.78666064\n",
      "  68.27476183  37.48201549  44.06200644  18.47693848  10.41502312\n",
      "  66.55736827  47.53170765  37.32147335  20.44287066  51.58808462\n",
      "  52.30943997  61.70261138  45.94687878  19.01888405  10.42946606\n",
      "  33.43444336  59.0119683   52.59661157  66.89850665  45.72676637\n",
      "  43.67536568  17.49317748  22.43779425  25.0315905   54.43175298\n",
      "  62.01680008  81.45676787  51.41110063  23.67950519  38.1924317\n",
      "  21.46751056  46.72559295  19.24776838  37.59217714  37.56994207\n",
      "  23.93550158  58.97812546  14.59857001  11.73391146  68.21266448\n",
      "  60.64640284  32.82315158  22.75847388  61.04881492  56.63893873\n",
      "  11.03407378  51.26105255  55.3394744   17.4026595   28.31901952\n",
      "  69.44862777  36.92344652  18.00246159  46.63164009  20.56321969\n",
      "  64.0964172  138.30651221  16.15632183  15.12205804  82.60914436\n",
      "  18.91874591  16.88530699  44.85057159  50.14767149  39.77516465\n",
      "  17.34796153  88.31281957  75.11139468  14.8853714   45.2395049\n",
      "  20.33911737  26.38299686  43.30622412  25.26368818  36.40761258\n",
      "  55.56785365  18.23258667  45.58281062  46.93401703  17.00749305\n",
      "  26.52446754  48.10176175  47.03976946  23.17698795  56.25557516\n",
      "  39.64402804  47.62278429  64.98462555  17.92398599  41.47976972\n",
      "  23.323796    18.76350257  22.92241957  34.79915453  41.27704572\n",
      "  37.85865079  47.52449978  15.62343805  17.98970561  39.22659137\n",
      "  53.67853475  25.09947345  61.65241016  13.07047251  50.93501048\n",
      "  33.93366118  22.30462783  34.62519838  72.3261583    8.16638117\n",
      "  15.42975667  32.73344278  74.64956231  64.48809049  53.42642022\n",
      "  15.44855132  34.7028508   39.54980632  44.06200644  42.35737784\n",
      "  50.99384431  68.4900396   44.85057159  63.11288284  43.11131661\n",
      "  20.79514692  17.71767878  23.21791707  20.38437803  18.69563785\n",
      "  58.44242746  23.08869272  11.76788458  36.03122697  32.34272723\n",
      "  40.72479525  65.91351035  10.88934717  13.98558222  49.38180009\n",
      "  28.52481977  15.59700114  17.12485346  59.53284388  52.19323375\n",
      "   9.38594447  18.76350257  14.56572092  18.32074902  19.61388051\n",
      "  29.18787278  17.20376756  60.41742878  52.96530287  54.36316657\n",
      "  42.47771505  15.19378406  14.8853714    6.28259035  16.0770111\n",
      "  16.7835917   12.89165955  18.73461474  17.62135857  54.79899977\n",
      "   9.56565892  37.47896135  67.62324395  74.83520736  13.33545561\n",
      "  61.59289836  14.17633987  22.53411446  65.91126804  20.66251615\n",
      "  10.7395992   16.64058765  40.53338909  14.85331558  59.63226014\n",
      "  68.41559417  21.30628116  63.254005    14.47779434  47.08461952\n",
      "  79.99027358  60.73578818  36.99937339  10.47089387  65.26584023\n",
      "  74.07695025  17.1237683   56.98911887  53.68645909  14.84307922\n",
      "  47.43197913  15.2522768    9.57726971  46.03522445  46.78575432\n",
      "  72.1723454   46.30496618  38.61095708  80.32299505  67.34587703\n",
      "  36.07927516  79.88559691  18.73065347  17.63739741  48.07345435\n",
      "  62.09524691  14.86279371  23.1861993   45.42895521  48.21409445\n",
      "  38.91652389   8.53583953  61.42708131  66.42982379  21.00258799\n",
      "  21.29483515  18.76350257  41.60424707  12.40130709  19.35279631\n",
      "  25.50127986  17.4026595   14.01201914  29.63264144  54.69262107\n",
      "  19.61916361  64.84082822  47.83365307  14.40344634  10.46448168\n",
      "  11.2053743   49.3084955    8.76736153  46.61557646  71.36775766\n",
      "  63.63537747  46.22731459  29.44146528  60.43834591  44.99079448\n",
      "  48.9839257   36.15295655  28.09211932  76.24718664  46.52875018\n",
      "  86.58603975  18.90650662  43.90429309  23.2409114   18.92566698\n",
      "  21.4716501   36.13596289   9.47592533  35.34350143  19.97160253\n",
      "  18.76350257  18.46691087  45.18663108 146.07539568  78.18141327\n",
      "  15.57854766  54.7456971   36.31280608  11.34288308  53.53680386\n",
      "  21.81613573  17.82626784  45.03935607  17.42468741  17.17210838\n",
      "  19.14300818  58.36740181  51.32406298  59.85826123  34.17438338\n",
      "  65.07313384  40.78700247  62.93841813  64.6803826   40.44223767\n",
      "  12.61945243  31.71291681  20.03928342  45.48347559  40.79248838\n",
      "  27.48863204  55.28735798   9.21957153  16.96585243  10.4847551\n",
      "  15.15695003  52.16014764  46.72694781   7.28877305  14.40070895\n",
      "  51.98335713  21.1724256   60.17815879  27.46023082  30.17420171\n",
      "  17.98747069  27.69824425  42.22558052  47.19584622  18.76350257\n",
      "  68.88762127  16.30011916  29.34940093  21.50530786  51.53683529\n",
      "  34.31059449  18.05310799  12.0550826   38.80627368 109.55695222\n",
      "  35.87059657  54.01434769  41.65537061  38.3008838   34.42233121\n",
      " 103.49998287  48.08731375  20.9463206   23.31339793]\n"
     ]
    }
   ],
   "source": [
    "y_pred_test = model.predict(X_test)\n",
    "# print the predicted values\n",
    "print(y_pred_test)"
   ]
  },
  {
   "cell_type": "code",
   "execution_count": 42,
   "metadata": {},
   "outputs": [
    {
     "name": "stdout",
     "output_type": "stream",
     "text": [
      "[ 57.54720042  12.1087497  156.58968428 ...  44.10953995  33.35086378\n",
      "  43.48311038]\n"
     ]
    }
   ],
   "source": [
    "y_pred_train = model.predict(X_train)\n",
    "# print the predicted values\n",
    "print(y_pred_train)"
   ]
  },
  {
   "cell_type": "code",
   "execution_count": 43,
   "metadata": {},
   "outputs": [],
   "source": [
    "# y_pred_DScaled = y_std_scale.inverse_transform(y_pred.reshape(-1, 1))\n",
    "# y_test_DScaled = y_std_scale.inverse_transform(y_test_std)"
   ]
  },
  {
   "cell_type": "code",
   "execution_count": 44,
   "metadata": {},
   "outputs": [],
   "source": [
    "# y_pred_DScaled"
   ]
  },
  {
   "cell_type": "code",
   "execution_count": 45,
   "metadata": {},
   "outputs": [],
   "source": [
    "# y_test_DScaled"
   ]
  },
  {
   "cell_type": "code",
   "execution_count": 46,
   "metadata": {},
   "outputs": [
    {
     "name": "stdout",
     "output_type": "stream",
     "text": [
      "MSE: 1693.33\n",
      "RMSE: 41.15\n",
      "R-squared: 0.25\n"
     ]
    }
   ],
   "source": [
    "from sklearn.metrics import mean_squared_error, r2_score\n",
    "\n",
    "# Compute the evaluation metrics on the inverse transformed predicted values\n",
    "mse_train = mean_squared_error(y_train, y_pred_train)\n",
    "rmse_train = np.sqrt(mse_train)\n",
    "r2_train = r2_score(y_train, y_pred_train)\n",
    "\n",
    "# Print the evaluation metrics\n",
    "print(f\"MSE: {mse_train:.2f}\")\n",
    "print(f\"RMSE: {rmse_train:.2f}\")\n",
    "print(f\"R-squared: {r2_train:.2f}\")\n"
   ]
  },
  {
   "cell_type": "code",
   "execution_count": 47,
   "metadata": {},
   "outputs": [
    {
     "name": "stdout",
     "output_type": "stream",
     "text": [
      "MSE: 1672.28\n",
      "RMSE: 40.89\n",
      "R-squared: 0.27\n"
     ]
    }
   ],
   "source": [
    "mse_test = mean_squared_error(y_test, y_pred_test)\n",
    "rmse_test = np.sqrt(mse_test)\n",
    "r2_test = r2_score(y_test, y_pred_test)\n",
    "\n",
    "# Print the evaluation metrics\n",
    "print(f\"MSE: {mse_test:.2f}\")\n",
    "print(f\"RMSE: {rmse_test:.2f}\")\n",
    "print(f\"R-squared: {r2_test:.2f}\")"
   ]
  },
  {
   "cell_type": "code",
   "execution_count": 48,
   "metadata": {},
   "outputs": [],
   "source": [
    "# from sklearn.metrics import accuracy_score\n",
    "\n",
    "# y_pred_DScaled_1d = y_pred_DScaled.flatten()\n",
    "# y_test_DScaled_1d = y_test_DScaled.flatten()\n"
   ]
  },
  {
   "cell_type": "code",
   "execution_count": 49,
   "metadata": {},
   "outputs": [],
   "source": [
    "# y_pred_DScaled_1d"
   ]
  },
  {
   "cell_type": "code",
   "execution_count": 50,
   "metadata": {},
   "outputs": [],
   "source": [
    "# y_test_DScaled_1d"
   ]
  },
  {
   "cell_type": "code",
   "execution_count": 51,
   "metadata": {},
   "outputs": [],
   "source": [
    "import pickle\n",
    "filename = 'finalized_model.sav'\n",
    "pickle.dump(model, open(filename, 'wb'))"
   ]
  },
  {
   "cell_type": "code",
   "execution_count": 52,
   "metadata": {},
   "outputs": [],
   "source": [
    "def transformFunc(coder,vals):\n",
    "    return coder.transform(vals)"
   ]
  },
  {
   "cell_type": "code",
   "execution_count": 53,
   "metadata": {},
   "outputs": [],
   "source": [
    "transLocInput = transformFunc(leLocation,['Pune'])"
   ]
  },
  {
   "cell_type": "code",
   "execution_count": 54,
   "metadata": {},
   "outputs": [
    {
     "name": "stdout",
     "output_type": "stream",
     "text": [
      "41\n"
     ]
    },
    {
     "data": {
      "text/plain": [
       "numpy.int32"
      ]
     },
     "execution_count": 54,
     "metadata": {},
     "output_type": "execute_result"
    }
   ],
   "source": [
    "print(transLocInput[0])\n",
    "type(transLocInput[0])"
   ]
  },
  {
   "cell_type": "code",
   "execution_count": null,
   "metadata": {},
   "outputs": [],
   "source": []
  },
  {
   "cell_type": "code",
   "execution_count": 55,
   "metadata": {},
   "outputs": [],
   "source": [
    "from flask import Flask, render_template, request, redirect,url_for\n",
    "import datetime\n",
    "from datetime import date\n",
    "from datetime import timedelta\n"
   ]
  },
  {
   "cell_type": "code",
   "execution_count": 62,
   "metadata": {},
   "outputs": [
    {
     "name": "stdout",
     "output_type": "stream",
     "text": [
      " * Serving Flask app '__main__'\n",
      " * Debug mode: off\n"
     ]
    },
    {
     "name": "stderr",
     "output_type": "stream",
     "text": [
      "WARNING: This is a development server. Do not use it in a production deployment. Use a production WSGI server instead.\n",
      " * Running on http://127.0.0.1:5000\n",
      "Press CTRL+C to quit\n",
      "127.0.0.1 - - [06/Apr/2023 12:59:24] \"GET / HTTP/1.1\" 200 -\n",
      "127.0.0.1 - - [06/Apr/2023 12:59:24] \"GET /static/style.css HTTP/1.1\" 304 -\n",
      "127.0.0.1 - - [06/Apr/2023 12:59:24] \"GET /static/bg-img.png HTTP/1.1\" 304 -\n",
      "127.0.0.1 - - [06/Apr/2023 12:59:24] \"GET /static/logo.png HTTP/1.1\" 304 -\n",
      "c:\\Users\\naman_kumar\\AppData\\Local\\Programs\\Python\\Python39\\lib\\site-packages\\sklearn\\base.py:439: UserWarning: X does not have valid feature names, but LinearRegression was fitted with feature names\n",
      "  warnings.warn(\n",
      "c:\\Users\\naman_kumar\\AppData\\Local\\Programs\\Python\\Python39\\lib\\site-packages\\sklearn\\base.py:439: UserWarning: X does not have valid feature names, but LinearRegression was fitted with feature names\n",
      "  warnings.warn(\n",
      "127.0.0.1 - - [06/Apr/2023 12:59:56] \"POST /submit HTTP/1.1\" 200 -\n",
      "127.0.0.1 - - [06/Apr/2023 12:59:56] \"GET /static/style.css HTTP/1.1\" 304 -\n",
      "127.0.0.1 - - [06/Apr/2023 12:59:56] \"GET /static/bg-img.png HTTP/1.1\" 304 -\n",
      "127.0.0.1 - - [06/Apr/2023 12:59:56] \"GET /static/logo.png HTTP/1.1\" 304 -\n"
     ]
    },
    {
     "name": "stdout",
     "output_type": "stream",
     "text": [
      "3.1\n",
      "2023-05-12 00:00:00\n",
      "[7, 10, 41, 2, 1, 0, 0, 35]\n",
      "[7, 10, 41, 2, 1, 0, 1, 35]\n",
      "[30.38981021]\n",
      "[49.98672454]\n",
      "2023-05-06\n",
      "2023-05-25\n"
     ]
    },
    {
     "name": "stderr",
     "output_type": "stream",
     "text": [
      "c:\\Users\\naman_kumar\\AppData\\Local\\Programs\\Python\\Python39\\lib\\site-packages\\sklearn\\base.py:439: UserWarning: X does not have valid feature names, but LinearRegression was fitted with feature names\n",
      "  warnings.warn(\n",
      "c:\\Users\\naman_kumar\\AppData\\Local\\Programs\\Python\\Python39\\lib\\site-packages\\sklearn\\base.py:439: UserWarning: X does not have valid feature names, but LinearRegression was fitted with feature names\n",
      "  warnings.warn(\n",
      "127.0.0.1 - - [06/Apr/2023 13:00:31] \"POST /submit HTTP/1.1\" 200 -\n",
      "127.0.0.1 - - [06/Apr/2023 13:00:31] \"GET /static/style.css HTTP/1.1\" 304 -\n",
      "127.0.0.1 - - [06/Apr/2023 13:00:31] \"GET /static/bg-img.png HTTP/1.1\" 304 -\n",
      "127.0.0.1 - - [06/Apr/2023 13:00:31] \"GET /static/logo.png HTTP/1.1\" 304 -\n"
     ]
    },
    {
     "name": "stdout",
     "output_type": "stream",
     "text": [
      "3.1\n",
      "2024-02-12 00:00:00\n",
      "[7, 10, 41, 2, 1, 0, 0, 311]\n",
      "[7, 10, 41, 2, 1, 0, 1, 311]\n",
      "[165.26405849]\n",
      "[184.86097281]\n",
      "2023-09-18\n",
      "2023-10-07\n"
     ]
    },
    {
     "name": "stderr",
     "output_type": "stream",
     "text": [
      "127.0.0.1 - - [06/Apr/2023 13:12:24] \"GET / HTTP/1.1\" 200 -\n",
      "127.0.0.1 - - [06/Apr/2023 13:12:25] \"GET /static/style.css HTTP/1.1\" 304 -\n",
      "127.0.0.1 - - [06/Apr/2023 13:12:25] \"GET /static/bg-img.png HTTP/1.1\" 304 -\n",
      "127.0.0.1 - - [06/Apr/2023 13:12:25] \"GET /static/logo.png HTTP/1.1\" 304 -\n",
      "127.0.0.1 - - [06/Apr/2023 13:18:40] \"GET / HTTP/1.1\" 200 -\n",
      "127.0.0.1 - - [06/Apr/2023 13:18:40] \"GET /static/style.css HTTP/1.1\" 304 -\n",
      "127.0.0.1 - - [06/Apr/2023 13:18:40] \"GET /static/bg-img.png HTTP/1.1\" 304 -\n",
      "127.0.0.1 - - [06/Apr/2023 13:18:40] \"GET /static/logo.png HTTP/1.1\" 304 -\n",
      "127.0.0.1 - - [06/Apr/2023 13:22:53] \"GET / HTTP/1.1\" 200 -\n",
      "127.0.0.1 - - [06/Apr/2023 13:22:53] \"GET /static/style.css HTTP/1.1\" 304 -\n",
      "127.0.0.1 - - [06/Apr/2023 13:22:53] \"GET /static/bg-img.png HTTP/1.1\" 304 -\n",
      "127.0.0.1 - - [06/Apr/2023 13:22:53] \"GET /static/logo.png HTTP/1.1\" 304 -\n",
      "c:\\Users\\naman_kumar\\AppData\\Local\\Programs\\Python\\Python39\\lib\\site-packages\\sklearn\\base.py:439: UserWarning: X does not have valid feature names, but LinearRegression was fitted with feature names\n",
      "  warnings.warn(\n",
      "c:\\Users\\naman_kumar\\AppData\\Local\\Programs\\Python\\Python39\\lib\\site-packages\\sklearn\\base.py:439: UserWarning: X does not have valid feature names, but LinearRegression was fitted with feature names\n",
      "  warnings.warn(\n",
      "127.0.0.1 - - [06/Apr/2023 13:48:06] \"POST /submit HTTP/1.1\" 200 -\n",
      "127.0.0.1 - - [06/Apr/2023 13:48:06] \"GET /static/style.css HTTP/1.1\" 304 -\n",
      "127.0.0.1 - - [06/Apr/2023 13:48:06] \"GET /static/bg-img.png HTTP/1.1\" 304 -\n",
      "127.0.0.1 - - [06/Apr/2023 13:48:06] \"GET /static/logo.png HTTP/1.1\" 304 -\n"
     ]
    },
    {
     "name": "stdout",
     "output_type": "stream",
     "text": [
      "3.1\n",
      "2023-05-25 00:00:00\n",
      "[7, 10, 41, 2, 1, 0, 0, 48]\n",
      "[7, 10, 41, 2, 1, 0, 1, 48]\n",
      "[36.74258278]\n",
      "[56.3394971]\n",
      "2023-05-12\n",
      "2023-06-01\n"
     ]
    },
    {
     "name": "stderr",
     "output_type": "stream",
     "text": [
      "127.0.0.1 - - [06/Apr/2023 13:52:57] \"GET / HTTP/1.1\" 200 -\n",
      "127.0.0.1 - - [06/Apr/2023 13:52:57] \"GET /static/style.css HTTP/1.1\" 304 -\n",
      "127.0.0.1 - - [06/Apr/2023 13:52:57] \"GET /static/bg-img.png HTTP/1.1\" 304 -\n",
      "127.0.0.1 - - [06/Apr/2023 13:52:57] \"GET /static/logo.png HTTP/1.1\" 304 -\n"
     ]
    }
   ],
   "source": [
    "\n",
    "app = Flask(__name__)\n",
    "app.config[\"DEBUG\"] = True\n",
    "try:\n",
    "    def load():\n",
    "        import pickle\n",
    "        global Loaded_model\n",
    "        filename = 'finalized_model.sav'\n",
    "        Loaded_model = pickle.load(open(filename, 'rb'))\n",
    "\n",
    "    @app.route('/',methods=['GET'])\n",
    "    def home():\n",
    "        return render_template('home.html')\n",
    "\n",
    "    @app.route('/submit', methods=['POST'])\n",
    "    def submit():\n",
    "        input1 = request.form['input1']\n",
    "        Skill = input1\n",
    "        input2 = request.form['input2']\n",
    "        Location = input2\n",
    "        input3 = request.form['input3']\n",
    "        input4 = request.form['input4']\n",
    "        input5 = request.form['input5']\n",
    "        input6 = request.form['input6']\n",
    "        Grade = input6\n",
    "        print(input6)\n",
    "        input7 = request.form['input7']\n",
    "\n",
    "        # date_str = \"2022-05-15\"\n",
    "        date_obj = datetime.datetime.strptime(input7, \"%Y-%m-%d\")\n",
    "        print(date_obj)\n",
    "\n",
    "        billDate = date_obj\n",
    "        \n",
    "        transLocInput = transformFunc(leLocation,[input2])[0]\n",
    "        transPopInput = transformFunc(lePop,[input4])[0]\n",
    "        transPriorityInput = transformFunc(lePriority,[input5])[0]\n",
    "        transSkillInput = transformFunc(leSkill,[input1])[0]\n",
    "        transGradeInput = transformFunc(leGrade,[input6])[0]\n",
    "        transIsCI = transformFunc(leCI,[input3])[0]\n",
    "        transBillingDate = billDate - datetime.datetime.now()\n",
    "        transBillingDate = transBillingDate.days\n",
    "        model = Loaded_model\n",
    "        \n",
    "        current_date = date.today()\n",
    "        UserInputsInternal = [transGradeInput,transSkillInput,transLocInput,transPopInput,transIsCI,transPriorityInput,0,transBillingDate]\n",
    "        # UserInputsInternal = np.array(UserInputsInternal).flatten()\n",
    "        UserInputsExt = [transGradeInput,transSkillInput,transLocInput,transPopInput,transIsCI,transPriorityInput,1,transBillingDate]\n",
    "        # UserInputsExt = np.array(UserInputsExt).flatten()\n",
    "        print(UserInputsInternal)\n",
    "        print(UserInputsExt)\n",
    "        intPrediction = model.predict([UserInputsInternal])\n",
    "        extPrediction = model.predict([UserInputsExt])\n",
    "        print(intPrediction)\n",
    "        print(extPrediction)\n",
    "        # intPrediction1 = y_std_scale.inverse_transform(intPrediction)\n",
    "        # extPrediction1 = y_std_scale.inverse_transform(extPrediction)\n",
    "        # print(extPrediction1)\n",
    "        # print(intPrediction1)\n",
    "        delta1= timedelta(days=int(intPrediction))\n",
    "        delta2 = timedelta(days=int(extPrediction))\n",
    "        result_date1 = current_date + delta1\n",
    "        result_date2 = current_date + delta2\n",
    "        print(result_date1)\n",
    "        print(result_date2)\n",
    "        return render_template(\"ShowDate.html\", result_date1=result_date1,result_date2=result_date2,Skill=Skill,Grade=Grade,Location=Location)\n",
    "except Exception as e:\n",
    "    print(e)\n",
    "\n",
    "if __name__ == '__main__':\n",
    "    load()\n",
    "    app.run(debug=False)"
   ]
  },
  {
   "cell_type": "code",
   "execution_count": null,
   "metadata": {},
   "outputs": [],
   "source": []
  },
  {
   "cell_type": "code",
   "execution_count": null,
   "metadata": {},
   "outputs": [],
   "source": []
  },
  {
   "cell_type": "code",
   "execution_count": null,
   "metadata": {},
   "outputs": [
    {
     "name": "stdout",
     "output_type": "stream",
     "text": [
      "28\n"
     ]
    }
   ],
   "source": []
  },
  {
   "cell_type": "code",
   "execution_count": null,
   "metadata": {},
   "outputs": [],
   "source": []
  },
  {
   "cell_type": "code",
   "execution_count": null,
   "metadata": {},
   "outputs": [],
   "source": []
  },
  {
   "cell_type": "code",
   "execution_count": null,
   "metadata": {},
   "outputs": [
    {
     "name": "stdout",
     "output_type": "stream",
     "text": [
      "912\n"
     ]
    }
   ],
   "source": []
  },
  {
   "cell_type": "code",
   "execution_count": null,
   "metadata": {},
   "outputs": [],
   "source": []
  },
  {
   "cell_type": "code",
   "execution_count": null,
   "metadata": {},
   "outputs": [],
   "source": []
  }
 ],
 "metadata": {
  "kernelspec": {
   "display_name": "Python 3",
   "language": "python",
   "name": "python3"
  },
  "language_info": {
   "codemirror_mode": {
    "name": "ipython",
    "version": 3
   },
   "file_extension": ".py",
   "mimetype": "text/x-python",
   "name": "python",
   "nbconvert_exporter": "python",
   "pygments_lexer": "ipython3",
   "version": "3.9.5"
  },
  "orig_nbformat": 4,
  "vscode": {
   "interpreter": {
    "hash": "040274b4573534f6804640e4d615220f38b39c6057d4a2b290ab3e2b39cead20"
   }
  }
 },
 "nbformat": 4,
 "nbformat_minor": 2
}
